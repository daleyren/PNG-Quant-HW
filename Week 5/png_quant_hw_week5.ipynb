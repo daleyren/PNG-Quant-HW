{
 "cells": [
  {
   "cell_type": "code",
   "execution_count": 53,
   "metadata": {},
   "outputs": [],
   "source": [
    "import pandas as pd\n",
    "import numpy as np\n",
    "from sklearn.linear_model import LinearRegression\n",
    "import seaborn as sns"
   ]
  },
  {
   "cell_type": "markdown",
   "metadata": {},
   "source": [
    "# Section 1 – Traditional Mean Variance Allocation #"
   ]
  },
  {
   "cell_type": "markdown",
   "metadata": {},
   "source": [
    "### 1. Portfolio Summary Statistics ###\n",
    "Mean, Standard Deviation (Volatility), Sharpe Ratio, Covariances"
   ]
  },
  {
   "cell_type": "code",
   "execution_count": 115,
   "metadata": {},
   "outputs": [
    {
     "data": {
      "text/html": [
       "<div>\n",
       "<style scoped>\n",
       "    .dataframe tbody tr th:only-of-type {\n",
       "        vertical-align: middle;\n",
       "    }\n",
       "\n",
       "    .dataframe tbody tr th {\n",
       "        vertical-align: top;\n",
       "    }\n",
       "\n",
       "    .dataframe thead th {\n",
       "        text-align: right;\n",
       "    }\n",
       "</style>\n",
       "<table border=\"1\" class=\"dataframe\">\n",
       "  <thead>\n",
       "    <tr style=\"text-align: right;\">\n",
       "      <th></th>\n",
       "      <th>Mean</th>\n",
       "      <th>Volatility</th>\n",
       "      <th>Sharpe Ratio</th>\n",
       "    </tr>\n",
       "  </thead>\n",
       "  <tbody>\n",
       "    <tr>\n",
       "      <th>AXP</th>\n",
       "      <td>0.070700</td>\n",
       "      <td>0.015719</td>\n",
       "      <td>4.497636</td>\n",
       "    </tr>\n",
       "    <tr>\n",
       "      <th>BAC</th>\n",
       "      <td>0.096545</td>\n",
       "      <td>0.015862</td>\n",
       "      <td>6.086353</td>\n",
       "    </tr>\n",
       "    <tr>\n",
       "      <th>BK</th>\n",
       "      <td>0.067668</td>\n",
       "      <td>0.009038</td>\n",
       "      <td>7.487008</td>\n",
       "    </tr>\n",
       "    <tr>\n",
       "      <th>CVX</th>\n",
       "      <td>0.067041</td>\n",
       "      <td>0.008938</td>\n",
       "      <td>7.500935</td>\n",
       "    </tr>\n",
       "    <tr>\n",
       "      <th>DVA</th>\n",
       "      <td>0.076253</td>\n",
       "      <td>0.012926</td>\n",
       "      <td>5.899326</td>\n",
       "    </tr>\n",
       "    <tr>\n",
       "      <th>KO</th>\n",
       "      <td>0.046055</td>\n",
       "      <td>0.009930</td>\n",
       "      <td>4.638220</td>\n",
       "    </tr>\n",
       "    <tr>\n",
       "      <th>MCO</th>\n",
       "      <td>0.077685</td>\n",
       "      <td>0.020985</td>\n",
       "      <td>3.701835</td>\n",
       "    </tr>\n",
       "    <tr>\n",
       "      <th>USB</th>\n",
       "      <td>0.060069</td>\n",
       "      <td>0.010886</td>\n",
       "      <td>5.518105</td>\n",
       "    </tr>\n",
       "    <tr>\n",
       "      <th>VRSN</th>\n",
       "      <td>0.068904</td>\n",
       "      <td>0.019799</td>\n",
       "      <td>3.480210</td>\n",
       "    </tr>\n",
       "    <tr>\n",
       "      <th>VZ</th>\n",
       "      <td>0.047143</td>\n",
       "      <td>0.008654</td>\n",
       "      <td>5.447395</td>\n",
       "    </tr>\n",
       "  </tbody>\n",
       "</table>\n",
       "</div>"
      ],
      "text/plain": [
       "          Mean  Volatility  Sharpe Ratio\n",
       "AXP   0.070700    0.015719      4.497636\n",
       "BAC   0.096545    0.015862      6.086353\n",
       "BK    0.067668    0.009038      7.487008\n",
       "CVX   0.067041    0.008938      7.500935\n",
       "DVA   0.076253    0.012926      5.899326\n",
       "KO    0.046055    0.009930      4.638220\n",
       "MCO   0.077685    0.020985      3.701835\n",
       "USB   0.060069    0.010886      5.518105\n",
       "VRSN  0.068904    0.019799      3.480210\n",
       "VZ    0.047143    0.008654      5.447395"
      ]
     },
     "execution_count": 115,
     "metadata": {},
     "output_type": "execute_result"
    }
   ],
   "source": [
    "portfolio_df = pd.read_excel('portfolio.xlsx')\n",
    "# print(portfolio_df.head(5))\n",
    "returns_df = portfolio_df.drop(columns=['Date'])\n",
    "\n",
    "summary_statistics_1 = pd.DataFrame()\n",
    "summary_statistics_1['Mean'] = returns_df.std()\n",
    "summary_statistics_1['Volatility'] = returns_df.mean()\n",
    "summary_statistics_1['Sharpe Ratio'] = summary_statistics_1['Mean'] / summary_statistics_1['Volatility']\n",
    "\n",
    "summary_statistics_1\n"
   ]
  },
  {
   "cell_type": "code",
   "execution_count": 116,
   "metadata": {},
   "outputs": [
    {
     "name": "stdout",
     "output_type": "stream",
     "text": [
      "           AXP       BAC        BK       CVX       DVA        KO       MCO  \\\n",
      "AXP   0.004998  0.003791  0.002464  0.002731  0.001804  0.001350  0.002503   \n",
      "BAC   0.003791  0.009321  0.004784  0.002948  0.002532  0.000929  0.002708   \n",
      "BK    0.002464  0.004784  0.004579  0.002604  0.001829  0.000935  0.002667   \n",
      "CVX   0.002731  0.002948  0.002604  0.004494  0.001465  0.001189  0.001907   \n",
      "DVA   0.001804  0.002532  0.001829  0.001465  0.005815  0.000893  0.001501   \n",
      "KO    0.001350  0.000929  0.000935  0.001189  0.000893  0.002121  0.000742   \n",
      "MCO   0.002503  0.002708  0.002667  0.001907  0.001501  0.000742  0.006035   \n",
      "USB   0.002646  0.003654  0.002562  0.002158  0.001183  0.001015  0.001886   \n",
      "VRSN  0.001697  0.001597  0.001493  0.001596  0.001212  0.001017  0.001638   \n",
      "VZ    0.000603  0.000229  0.000389  0.001250  0.000811  0.001027  0.000638   \n",
      "\n",
      "           USB      VRSN        VZ  \n",
      "AXP   0.002646  0.001697  0.000603  \n",
      "BAC   0.003654  0.001597  0.000229  \n",
      "BK    0.002562  0.001493  0.000389  \n",
      "CVX   0.002158  0.001596  0.001250  \n",
      "DVA   0.001183  0.001212  0.000811  \n",
      "KO    0.001015  0.001017  0.001027  \n",
      "MCO   0.001886  0.001638  0.000638  \n",
      "USB   0.003608  0.001163  0.000474  \n",
      "VRSN  0.001163  0.004748  0.000576  \n",
      "VZ    0.000474  0.000576  0.002222  \n"
     ]
    },
    {
     "data": {
      "text/plain": [
       "<Axes: >"
      ]
     },
     "execution_count": 116,
     "metadata": {},
     "output_type": "execute_result"
    },
    {
     "data": {
      "image/png": "[encoded data removed]",
      "text/plain": [
       "<Figure size 640x480 with 2 Axes>"
      ]
     },
     "metadata": {},
     "output_type": "display_data"
    }
   ],
   "source": [
    "cov_matrix = returns_df.cov()\n",
    "print(cov_matrix)\n",
    "\n",
    "corr_matrix = cov_matrix.corr()\n",
    "corr_matrix[corr_matrix == 1] = None\n",
    "sns.heatmap(corr_matrix)\n"
   ]
  },
  {
   "cell_type": "markdown",
   "metadata": {},
   "source": [
    "### 2. Mean-Variance Frontier ###\n",
    "(a) Compute and display the tangency portfolio weights. (b) Compute the Mean, Volatility, and Sharpe for the tangency portfolio. Add it to the original Data Frame. (c) How does the mean return and Sharpe compare for the tangency vs other assets? "
   ]
  },
  {
   "cell_type": "code",
   "execution_count": 117,
   "metadata": {},
   "outputs": [
    {
     "name": "stdout",
     "output_type": "stream",
     "text": [
      "         Weight\n",
      "Stock          \n",
      "AXP   -0.012494\n",
      "BAC    0.126289\n",
      "BK    -0.044938\n",
      "CVX   -0.002082\n",
      "DVA    0.132943\n",
      "KO     0.133261\n",
      "MCO    0.129052\n",
      "USB    0.072361\n",
      "VRSN   0.162911\n",
      "VZ     0.302697\n"
     ]
    },
    {
     "data": {
      "text/html": [
       "<div>\n",
       "<style scoped>\n",
       "    .dataframe tbody tr th:only-of-type {\n",
       "        vertical-align: middle;\n",
       "    }\n",
       "\n",
       "    .dataframe tbody tr th {\n",
       "        vertical-align: top;\n",
       "    }\n",
       "\n",
       "    .dataframe thead th {\n",
       "        text-align: right;\n",
       "    }\n",
       "</style>\n",
       "<table border=\"1\" class=\"dataframe\">\n",
       "  <thead>\n",
       "    <tr style=\"text-align: right;\">\n",
       "      <th></th>\n",
       "      <th>Mean</th>\n",
       "      <th>Volatility</th>\n",
       "      <th>Sharpe Ratio</th>\n",
       "    </tr>\n",
       "  </thead>\n",
       "  <tbody>\n",
       "    <tr>\n",
       "      <th>AXP</th>\n",
       "      <td>0.070700</td>\n",
       "      <td>0.015719</td>\n",
       "      <td>4.497636</td>\n",
       "    </tr>\n",
       "    <tr>\n",
       "      <th>BAC</th>\n",
       "      <td>0.096545</td>\n",
       "      <td>0.015862</td>\n",
       "      <td>6.086353</td>\n",
       "    </tr>\n",
       "    <tr>\n",
       "      <th>BK</th>\n",
       "      <td>0.067668</td>\n",
       "      <td>0.009038</td>\n",
       "      <td>7.487008</td>\n",
       "    </tr>\n",
       "    <tr>\n",
       "      <th>CVX</th>\n",
       "      <td>0.067041</td>\n",
       "      <td>0.008938</td>\n",
       "      <td>7.500935</td>\n",
       "    </tr>\n",
       "    <tr>\n",
       "      <th>DVA</th>\n",
       "      <td>0.076253</td>\n",
       "      <td>0.012926</td>\n",
       "      <td>5.899326</td>\n",
       "    </tr>\n",
       "    <tr>\n",
       "      <th>KO</th>\n",
       "      <td>0.046055</td>\n",
       "      <td>0.009930</td>\n",
       "      <td>4.638220</td>\n",
       "    </tr>\n",
       "    <tr>\n",
       "      <th>MCO</th>\n",
       "      <td>0.077685</td>\n",
       "      <td>0.020985</td>\n",
       "      <td>3.701835</td>\n",
       "    </tr>\n",
       "    <tr>\n",
       "      <th>USB</th>\n",
       "      <td>0.060069</td>\n",
       "      <td>0.010886</td>\n",
       "      <td>5.518105</td>\n",
       "    </tr>\n",
       "    <tr>\n",
       "      <th>VRSN</th>\n",
       "      <td>0.068904</td>\n",
       "      <td>0.019799</td>\n",
       "      <td>3.480210</td>\n",
       "    </tr>\n",
       "    <tr>\n",
       "      <th>VZ</th>\n",
       "      <td>0.047143</td>\n",
       "      <td>0.008654</td>\n",
       "      <td>5.447395</td>\n",
       "    </tr>\n",
       "    <tr>\n",
       "      <th>Tangency</th>\n",
       "      <td>0.064271</td>\n",
       "      <td>0.039233</td>\n",
       "      <td>1.638170</td>\n",
       "    </tr>\n",
       "  </tbody>\n",
       "</table>\n",
       "</div>"
      ],
      "text/plain": [
       "              Mean  Volatility  Sharpe Ratio\n",
       "AXP       0.070700    0.015719      4.497636\n",
       "BAC       0.096545    0.015862      6.086353\n",
       "BK        0.067668    0.009038      7.487008\n",
       "CVX       0.067041    0.008938      7.500935\n",
       "DVA       0.076253    0.012926      5.899326\n",
       "KO        0.046055    0.009930      4.638220\n",
       "MCO       0.077685    0.020985      3.701835\n",
       "USB       0.060069    0.010886      5.518105\n",
       "VRSN      0.068904    0.019799      3.480210\n",
       "VZ        0.047143    0.008654      5.447395\n",
       "Tangency  0.064271    0.039233      1.638170"
      ]
     },
     "execution_count": 117,
     "metadata": {},
     "output_type": "execute_result"
    },
    {
     "data": {
      "image/png": "[encoded data removed]",
      "text/plain": [
       "<Figure size 640x480 with 1 Axes>"
      ]
     },
     "metadata": {},
     "output_type": "display_data"
    }
   ],
   "source": [
    "def tan_portfolio_weights(mean_rets, cov_matrix):\n",
    "    inv_cov = np.linalg.inv(cov_matrix)\n",
    "    ones = np.ones(mean_rets.shape)\n",
    "    return (inv_cov @ mean_rets) / (ones.T @ inv_cov @ mean_rets)\n",
    "\n",
    "tangency_portolio = pd.DataFrame()\n",
    "tangency_portolio['Stock'] = list(returns_df.columns)\n",
    "tangency_portolio = tangency_portolio.set_index('Stock')\n",
    "tangency_portolio['Weight'] = tan_portfolio_weights(summary_statistics_1['Mean'], cov_matrix)\n",
    "print(tangency_portolio)\n",
    "tangency_portolio.plot.bar()\n",
    "\n",
    "new_row = {\n",
    "    'Mean': np.dot(tangency_portolio['Weight'], summary_statistics_1['Mean']),\n",
    "    'Volatility':  np.sqrt(np.dot(tangency_portolio.T, np.dot(cov_matrix, tangency_portolio)))[0][0],\n",
    "}\n",
    "new_row['Sharpe Ratio'] = new_row['Mean'] / new_row['Volatility']\n",
    "\n",
    "# summary_statistics_2['Mean'] = np.sum(tangency_portolio['Weight'] * summary_statistics_1['Mean'])\n",
    "# tangency_portfolio_variance = np.dot(tangency_portolio.T, np.dot(cov_matrix, tangency_portolio))\n",
    "# print(np.sqrt(np.dot(tangency_portolio.T, np.dot(cov_matrix, tangency_portolio)))[0][0])\n",
    "# summary_statistics_2['Volatility'] = np.sqrt(np.dot(tangency_portolio.T, np.dot(cov_matrix, tangency_portolio)))[0][0]\n",
    "# summary_statistics_2['Sharpe Ratio'] = summary_statistics_2['Mean'] / summary_statistics_2['Volatility']\n",
    "\n",
    "summary_statistics_1.loc['Tangency'] = new_row\n",
    "summary_statistics_1"
   ]
  },
  {
   "cell_type": "markdown",
   "metadata": {},
   "source": [
    "Definitely did some miscalculation here because the tangency portfolio should have a significantly higher Sharpe Ratio."
   ]
  },
  {
   "cell_type": "markdown",
   "metadata": {},
   "source": [
    "### 3. Adjusting Allocation ###\n",
    "(a) Compute and display the weights of MV portfolio with target mean return of .01. (b) Calculate Mean, Volatility, and Sharpe for the adjusted portfolio. Add it to stats Dataframe. How have they changed?"
   ]
  },
  {
   "cell_type": "code",
   "execution_count": 78,
   "metadata": {},
   "outputs": [],
   "source": [
    "def gmv_portfolio(cov_matrix):\n",
    "    try:\n",
    "        cov_inv = np.linalg.inv(cov_matrix)\n",
    "    except TypeError:\n",
    "        cov_inv = np.linalg.inv(np.array(cov_matrix))\n",
    "\n",
    "    one_vector = np.ones(len(cov_matrix.index))\n",
    "    return cov_inv @ one_vector / (one_vector @ cov_inv @ (one_vector))\n",
    "\n",
    "def mv_portfolio(mean_rets, cov_matrix, target=None):\n",
    "    w_tan = tan_portfolio_weights(mean_rets, cov_matrix)\n",
    "\n",
    "    if target is None:\n",
    "        return w_tan\n",
    "\n",
    "    w_gmv = gmv_portfolio(cov_matrix)\n",
    "    delta = (target - mean_rets @ w_gmv) / (mean_rets @ w_tan - mean_rets @ w_gmv)\n",
    "    return delta * w_tan + (1 - delta) * w_gmv\n"
   ]
  }
 ],
 "metadata": {
  "kernelspec": {
   "display_name": "new_env",
   "language": "python",
   "name": "python3"
  },
  "language_info": {
   "codemirror_mode": {
    "name": "ipython",
    "version": 3
   },
   "file_extension": ".py",
   "mimetype": "text/x-python",
   "name": "python",
   "nbconvert_exporter": "python",
   "pygments_lexer": "ipython3",
   "version": "3.8.10"
  }
 },
 "nbformat": 4,
 "nbformat_minor": 2
}
