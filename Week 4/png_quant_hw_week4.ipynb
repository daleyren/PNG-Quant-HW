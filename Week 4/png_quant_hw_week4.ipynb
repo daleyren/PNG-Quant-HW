{
 "cells": [
  {
   "cell_type": "code",
   "execution_count": 2,
   "metadata": {},
   "outputs": [],
   "source": [
    "import pandas as pd\n",
    "import numpy as np\n",
    "from sklearn.linear_model import LinearRegression"
   ]
  },
  {
   "cell_type": "markdown",
   "metadata": {},
   "source": [
    "# Task 1: Linear Regression #"
   ]
  },
  {
   "cell_type": "code",
   "execution_count": 3,
   "metadata": {},
   "outputs": [
    {
     "name": "stdout",
     "output_type": "stream",
     "text": [
      "Column Names ['INCOME', 'SEX', 'MARITAL.STATUS', 'AGE', 'EDUCATION', 'OCCUPATION', 'AREA', 'DUAL.INCOMES', 'HOUSEHOLD.SIZE', 'UNDER18', 'HOUSEHOLDER', 'HOME.TYPE', 'ETHNIC.CLASS', 'LANGUAGE'] \n",
      "\n"
     ]
    }
   ],
   "source": [
    "income_df = pd.read_csv('income.csv')\n",
    "print('Column Names', list(income_df.columns), '\\n')\n",
    "# No 'beef' or 'pork' columns\n",
    "# ^ Unable to do Linear Regression"
   ]
  },
  {
   "cell_type": "markdown",
   "metadata": {},
   "source": [
    "# Task 2: Exploring a Real Dataset #"
   ]
  },
  {
   "cell_type": "code",
   "execution_count": 4,
   "metadata": {},
   "outputs": [
    {
     "name": "stdout",
     "output_type": "stream",
     "text": [
      "     sepal.length  sepal.width  petal.length  petal.width    variety\n",
      "145           6.7          3.0           5.2          2.3  Virginica\n",
      "146           6.3          2.5           5.0          1.9  Virginica\n",
      "147           6.5          3.0           5.2          2.0  Virginica\n",
      "148           6.2          3.4           5.4          2.3  Virginica\n",
      "149           5.9          3.0           5.1          1.8  Virginica \n",
      "\n",
      "       sepal.length  sepal.width  petal.length  petal.width\n",
      "count    150.000000   150.000000    150.000000   150.000000\n",
      "mean       5.843333     3.057333      3.758000     1.199333\n",
      "std        0.828066     0.435866      1.765298     0.762238\n",
      "min        4.300000     2.000000      1.000000     0.100000\n",
      "25%        5.100000     2.800000      1.600000     0.300000\n",
      "50%        5.800000     3.000000      4.350000     1.300000\n",
      "75%        6.400000     3.300000      5.100000     1.800000\n",
      "max        7.900000     4.400000      6.900000     2.500000\n"
     ]
    }
   ],
   "source": [
    "iris_df = pd.read_csv('iris.csv')\n",
    "print(iris_df.tail(5), '\\n')\n",
    "summary_statistics = iris_df.describe()\n",
    "print(summary_statistics)"
   ]
  },
  {
   "cell_type": "markdown",
   "metadata": {},
   "source": [
    "# Task 3: Advanced Linear Regression #"
   ]
  },
  {
   "cell_type": "code",
   "execution_count": 5,
   "metadata": {},
   "outputs": [
    {
     "name": "stdout",
     "output_type": "stream",
     "text": [
      "Intercept: 44392.26723753847\n",
      "Coefficients: [ 4.21057874e+04 -2.31674188e-01]\n"
     ]
    }
   ],
   "source": [
    "california_housing_train_df = pd.read_csv('california_housing_train.csv')\n",
    "# X's\n",
    "X_multi = california_housing_train_df[['median_income', 'total_rooms']]\n",
    "# Y's\n",
    "Y = california_housing_train_df['median_house_value']\n",
    "\n",
    "model = LinearRegression()\n",
    "model.fit(X_multi, Y)\n",
    "\n",
    "print(\"Intercept:\", model.intercept_)\n",
    "print(\"Coefficients:\", model.coef_)\n",
    "\n"
   ]
  }
 ],
 "metadata": {
  "kernelspec": {
   "display_name": "new_env",
   "language": "python",
   "name": "python3"
  },
  "language_info": {
   "codemirror_mode": {
    "name": "ipython",
    "version": 3
   },
   "file_extension": ".py",
   "mimetype": "text/x-python",
   "name": "python",
   "nbconvert_exporter": "python",
   "pygments_lexer": "ipython3",
   "version": "3.8.10"
  }
 },
 "nbformat": 4,
 "nbformat_minor": 2
}
